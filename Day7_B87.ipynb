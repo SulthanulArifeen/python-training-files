{
 "cells": [
  {
   "cell_type": "code",
   "execution_count": null,
   "id": "1d841fd6-b5f4-4bd2-961e-93335af0f426",
   "metadata": {},
   "outputs": [],
   "source": [
    "#introduction to tuple datatype- Immutable datatype-Immutable list is called tuple---> ()"
   ]
  },
  {
   "cell_type": "code",
   "execution_count": 1,
   "id": "97385e07-be70-4117-9cd6-2e936346f001",
   "metadata": {},
   "outputs": [
    {
     "name": "stdout",
     "output_type": "stream",
     "text": [
      "(100, 150)\n"
     ]
    }
   ],
   "source": [
    "dimensions=(100, 150)\n",
    "print(dimensions)"
   ]
  },
  {
   "cell_type": "code",
   "execution_count": 4,
   "id": "146cb9c0-14c9-4295-86cd-69060e6b4911",
   "metadata": {},
   "outputs": [
    {
     "data": {
      "text/plain": [
       "tuple"
      ]
     },
     "execution_count": 4,
     "metadata": {},
     "output_type": "execute_result"
    }
   ],
   "source": [
    "type(dimensions)"
   ]
  },
  {
   "cell_type": "code",
   "execution_count": null,
   "id": "8045b3df-01b8-48cb-b4f8-df132e85e44c",
   "metadata": {},
   "outputs": [],
   "source": [
    "#req-Change 100 to 200"
   ]
  },
  {
   "cell_type": "code",
   "execution_count": 6,
   "id": "8b8c32f2-d3bc-4035-bdf7-f9c13b160b84",
   "metadata": {},
   "outputs": [
    {
     "ename": "TypeError",
     "evalue": "'tuple' object does not support item assignment",
     "output_type": "error",
     "traceback": [
      "\u001b[1;31m---------------------------------------------------------------------------\u001b[0m",
      "\u001b[1;31mTypeError\u001b[0m                                 Traceback (most recent call last)",
      "Cell \u001b[1;32mIn[6], line 1\u001b[0m\n\u001b[1;32m----> 1\u001b[0m dimensions[\u001b[38;5;241m0\u001b[39m]\u001b[38;5;241m=\u001b[39m\u001b[38;5;241m200\u001b[39m\n",
      "\u001b[1;31mTypeError\u001b[0m: 'tuple' object does not support item assignment"
     ]
    }
   ],
   "source": [
    "dimensions[0]=200"
   ]
  },
  {
   "cell_type": "code",
   "execution_count": null,
   "id": "1fc569e4-d86a-4bdd-a963-40b239614904",
   "metadata": {},
   "outputs": [],
   "source": [
    "# Error is due to immutable which we cannot change the value once assigned"
   ]
  },
  {
   "cell_type": "code",
   "execution_count": 8,
   "id": "17280843-b645-4d37-8001-9ebc8157d1ce",
   "metadata": {},
   "outputs": [
    {
     "name": "stdout",
     "output_type": "stream",
     "text": [
      "('naveedh', 'ahmed', 'farook', 'sheikh')\n"
     ]
    }
   ],
   "source": [
    "students=('naveedh','ahmed','farook','sheikh')\n",
    "print(students)"
   ]
  },
  {
   "cell_type": "code",
   "execution_count": 10,
   "id": "37a42791-f734-4827-8cdf-c76214417138",
   "metadata": {},
   "outputs": [
    {
     "data": {
      "text/plain": [
       "tuple"
      ]
     },
     "execution_count": 10,
     "metadata": {},
     "output_type": "execute_result"
    }
   ],
   "source": [
    "type(students)"
   ]
  },
  {
   "cell_type": "code",
   "execution_count": 12,
   "id": "7cd8f9ae-ecf0-480d-be9c-b82c693b443c",
   "metadata": {},
   "outputs": [
    {
     "name": "stdout",
     "output_type": "stream",
     "text": [
      "naveedh\n",
      "ahmed\n",
      "farook\n",
      "sheikh\n"
     ]
    }
   ],
   "source": [
    "for folks in students:\n",
    "    print(folks)"
   ]
  },
  {
   "cell_type": "code",
   "execution_count": null,
   "id": "0e36925a-ff2a-45fd-8f90-b27b3e7ce353",
   "metadata": {},
   "outputs": [],
   "source": [
    "#Introduction to dictionary datatype- mutable datatype-Combination of key and value----->{}"
   ]
  },
  {
   "cell_type": "code",
   "execution_count": null,
   "id": "7f1b4527-7314-4220-b4de-e17ce97108c5",
   "metadata": {},
   "outputs": [],
   "source": [
    "#req-create a game which is based on alien"
   ]
  },
  {
   "cell_type": "code",
   "execution_count": 14,
   "id": "1de9e8bc-8e68-4b30-be88-5fdd777a4431",
   "metadata": {},
   "outputs": [
    {
     "name": "stdout",
     "output_type": "stream",
     "text": [
      "{'colour': 'green', 'killing_points': 10}\n"
     ]
    }
   ],
   "source": [
    "alien={'colour':'green','killing_points':10}\n",
    "print(alien)"
   ]
  },
  {
   "cell_type": "code",
   "execution_count": 16,
   "id": "5d864aa2-e408-4a5e-bb14-033b7e2b7b18",
   "metadata": {},
   "outputs": [
    {
     "data": {
      "text/plain": [
       "dict"
      ]
     },
     "execution_count": 16,
     "metadata": {},
     "output_type": "execute_result"
    }
   ],
   "source": [
    "type(alien)"
   ]
  },
  {
   "cell_type": "code",
   "execution_count": null,
   "id": "aa3b5c54-1917-42fd-8892-3bc44f99b63a",
   "metadata": {},
   "outputs": [],
   "source": [
    "#req-Add new key and value to the dictionary\n",
    "#add- start_position:level1"
   ]
  },
  {
   "cell_type": "code",
   "execution_count": 20,
   "id": "b1ab0d13-a98f-400b-85d1-dc695a755f93",
   "metadata": {},
   "outputs": [
    {
     "name": "stdout",
     "output_type": "stream",
     "text": [
      "{'colour': 'green', 'killing_points': 10, 'start_position': 'level1'}\n"
     ]
    }
   ],
   "source": [
    "alien['start_position']='level1'\n",
    "print(alien)"
   ]
  },
  {
   "cell_type": "code",
   "execution_count": null,
   "id": "6e8f1611-46f6-4f30-9b65-599d9620982f",
   "metadata": {},
   "outputs": [],
   "source": [
    "#Req-Again add current_position=level4"
   ]
  },
  {
   "cell_type": "code",
   "execution_count": 22,
   "id": "d8ece212-49ca-42fc-b0ca-a8c72553bf3f",
   "metadata": {},
   "outputs": [
    {
     "name": "stdout",
     "output_type": "stream",
     "text": [
      "{'colour': 'green', 'killing_points': 10, 'start_position': 'level1', 'current_position': 'level4'}\n"
     ]
    }
   ],
   "source": [
    "alien['current_position']='level4'\n",
    "print(alien)"
   ]
  },
  {
   "cell_type": "code",
   "execution_count": 24,
   "id": "d45baa7a-7312-4731-abd8-ad32d98b7939",
   "metadata": {},
   "outputs": [
    {
     "data": {
      "text/plain": [
       "'green'"
      ]
     },
     "execution_count": 24,
     "metadata": {},
     "output_type": "execute_result"
    }
   ],
   "source": [
    "#To access the values from the key\n",
    "alien['colour']"
   ]
  },
  {
   "cell_type": "code",
   "execution_count": 26,
   "id": "32748bd3-2615-4c19-8828-f5d2c0619b0b",
   "metadata": {},
   "outputs": [
    {
     "data": {
      "text/plain": [
       "'level4'"
      ]
     },
     "execution_count": 26,
     "metadata": {},
     "output_type": "execute_result"
    }
   ],
   "source": [
    "#Req-access the value of current position\n",
    "alien['current_position']"
   ]
  },
  {
   "cell_type": "code",
   "execution_count": 30,
   "id": "1c073725-9db5-43db-aa98-723c51f8a9c8",
   "metadata": {},
   "outputs": [],
   "source": [
    "#can we access the key from values-Let's try"
   ]
  },
  {
   "cell_type": "code",
   "execution_count": 32,
   "id": "1732152b-43ce-45cb-a2ae-14bdbed2def0",
   "metadata": {},
   "outputs": [
    {
     "ename": "KeyError",
     "evalue": "'level1'",
     "output_type": "error",
     "traceback": [
      "\u001b[1;31m---------------------------------------------------------------------------\u001b[0m",
      "\u001b[1;31mKeyError\u001b[0m                                  Traceback (most recent call last)",
      "Cell \u001b[1;32mIn[32], line 1\u001b[0m\n\u001b[1;32m----> 1\u001b[0m alien[\u001b[38;5;124m'\u001b[39m\u001b[38;5;124mlevel1\u001b[39m\u001b[38;5;124m'\u001b[39m]\n",
      "\u001b[1;31mKeyError\u001b[0m: 'level1'"
     ]
    }
   ],
   "source": [
    "alien['level1']"
   ]
  },
  {
   "cell_type": "code",
   "execution_count": null,
   "id": "36b703c5-6396-4837-a13d-fb59044b7343",
   "metadata": {},
   "outputs": [],
   "source": [
    "# we cannot access the key from values only we can access the value by giving the key\n"
   ]
  },
  {
   "cell_type": "code",
   "execution_count": null,
   "id": "ec197d66-0a4e-4d4e-be2f-b7482140fb2f",
   "metadata": {},
   "outputs": [],
   "source": [
    "#Implemetation of for loop in dictionary\n",
    "#general syntax\n",
    "for tempvar1,tempvar2 in mainvar.items():\n",
    "    print(tempvar1)\n",
    "    print(tempvar2)\n",
    "\n",
    "#likewise"
   ]
  },
  {
   "cell_type": "code",
   "execution_count": 34,
   "id": "d9f6b9ba-65c7-4be2-a5a1-5ccc9f193e47",
   "metadata": {},
   "outputs": [
    {
     "name": "stdout",
     "output_type": "stream",
     "text": [
      "colour\n",
      "green\n",
      "killing_points\n",
      "10\n",
      "start_position\n",
      "level1\n",
      "current_position\n",
      "level4\n"
     ]
    }
   ],
   "source": [
    "for k,v in alien.items():\n",
    "    print(k)\n",
    "    print(v)"
   ]
  },
  {
   "cell_type": "code",
   "execution_count": null,
   "id": "f6e69140-7dc6-4c62-b075-b9f3d3a19a32",
   "metadata": {},
   "outputs": [],
   "source": []
  },
  {
   "cell_type": "code",
   "execution_count": null,
   "id": "e5c04bdf-75bd-47d0-bc28-f5679e2cc251",
   "metadata": {},
   "outputs": [],
   "source": []
  }
 ],
 "metadata": {
  "kernelspec": {
   "display_name": "Python 3 (ipykernel)",
   "language": "python",
   "name": "python3"
  },
  "language_info": {
   "codemirror_mode": {
    "name": "ipython",
    "version": 3
   },
   "file_extension": ".py",
   "mimetype": "text/x-python",
   "name": "python",
   "nbconvert_exporter": "python",
   "pygments_lexer": "ipython3",
   "version": "3.12.4"
  }
 },
 "nbformat": 4,
 "nbformat_minor": 5
}
