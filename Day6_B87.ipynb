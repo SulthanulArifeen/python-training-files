{
 "cells": [
  {
   "cell_type": "code",
   "execution_count": null,
   "id": "815f688b-1c02-4a28-8a97-845d9d274beb",
   "metadata": {},
   "outputs": [],
   "source": [
    "Introduction to Loop statements\n",
    "Understanding the concept of for loop"
   ]
  },
  {
   "cell_type": "code",
   "execution_count": 3,
   "id": "d701ba2e-2d28-4cd7-a3e3-1ed9d7f27b36",
   "metadata": {},
   "outputs": [
    {
     "name": "stdout",
     "output_type": "stream",
     "text": [
      "['aditi', 'nouman', 'leo', 'bavani', 'swetha', 'joseph']\n"
     ]
    },
    {
     "data": {
      "text/plain": [
       "list"
      ]
     },
     "execution_count": 3,
     "metadata": {},
     "output_type": "execute_result"
    }
   ],
   "source": [
    "students=['aditi','nouman','leo','bavani','swetha','joseph']\n",
    "print(students)\n",
    "type(students)"
   ]
  },
  {
   "cell_type": "code",
   "execution_count": 9,
   "id": "fc0933cb-59d6-44c2-aa34-ac6ef3fd0a4b",
   "metadata": {},
   "outputs": [
    {
     "name": "stdout",
     "output_type": "stream",
     "text": [
      "keep up the good work,Aditi\n"
     ]
    }
   ],
   "source": [
    "# To appreciate the list of students mentioned above\n",
    "print(f'keep up the good work,{students[0].title()}')"
   ]
  },
  {
   "cell_type": "code",
   "execution_count": 13,
   "id": "bdca5758-2040-4b9d-8573-d8714769a67a",
   "metadata": {},
   "outputs": [
    {
     "name": "stdout",
     "output_type": "stream",
     "text": [
      "keep up the good work,Bavani\n"
     ]
    }
   ],
   "source": [
    "# To appreciate bavani\n",
    "print(f\"keep up the good work,{students[3].title()}\")"
   ]
  },
  {
   "cell_type": "code",
   "execution_count": null,
   "id": "366dcc00-038f-452c-8b27-20ab800250ed",
   "metadata": {},
   "outputs": [],
   "source": [
    "General syntax of for loop\n",
    "for tempvar in mainvar:\n",
    "                 print(tempvar)"
   ]
  },
  {
   "cell_type": "code",
   "execution_count": 17,
   "id": "40a6e23c-53ed-41fd-8fdb-8e201314beab",
   "metadata": {},
   "outputs": [
    {
     "name": "stdout",
     "output_type": "stream",
     "text": [
      "['aditi', 'nouman', 'leo', 'bavani', 'swetha']\n",
      "['aditi', 'nouman', 'leo', 'bavani', 'swetha']\n",
      "['aditi', 'nouman', 'leo', 'bavani', 'swetha']\n",
      "['aditi', 'nouman', 'leo', 'bavani', 'swetha']\n",
      "['aditi', 'nouman', 'leo', 'bavani', 'swetha']\n"
     ]
    }
   ],
   "source": [
    "students=['aditi','nouman','leo','bavani','swetha']\n",
    "for x in students:\n",
    "                 print(students)"
   ]
  },
  {
   "cell_type": "code",
   "execution_count": 19,
   "id": "ec9d271b-78f7-4783-b293-3e251ac94c06",
   "metadata": {},
   "outputs": [
    {
     "name": "stdout",
     "output_type": "stream",
     "text": [
      "Keep up the good work,Aditi\n",
      "Keep up the good work,Nouman\n",
      "Keep up the good work,Leo\n",
      "Keep up the good work,Bavani\n",
      "Keep up the good work,Swetha\n"
     ]
    }
   ],
   "source": [
    "for x in students:\n",
    "    print(f\"Keep up the good work,{x.title()}\")"
   ]
  },
  {
   "cell_type": "code",
   "execution_count": 21,
   "id": "d1c320f3-bcca-4025-a803-8396aabe096d",
   "metadata": {},
   "outputs": [
    {
     "name": "stdout",
     "output_type": "stream",
     "text": [
      "Keep up the good work,Aditi\n",
      "Keep up the good work,Nouman\n",
      "Keep up the good work,Leo\n",
      "Keep up the good work,Bavani\n",
      "Keep up the good work,Swetha\n"
     ]
    }
   ],
   "source": [
    "for folks in students:\n",
    "    print(f\"Keep up the good work,{folks.title()}\")"
   ]
  },
  {
   "cell_type": "code",
   "execution_count": 25,
   "id": "d432ea52-c592-498f-8812-fbcf2d746384",
   "metadata": {},
   "outputs": [
    {
     "name": "stdout",
     "output_type": "stream",
     "text": [
      "Keep up the good work,Aditi\n",
      "Do submit  your work daily without fails,Aditi\n",
      "\n",
      "Keep up the good work,Nouman\n",
      "Do submit  your work daily without fails,Nouman\n",
      "\n",
      "Keep up the good work,Leo\n",
      "Do submit  your work daily without fails,Leo\n",
      "\n",
      "Keep up the good work,Bavani\n",
      "Do submit  your work daily without fails,Bavani\n",
      "\n",
      "Keep up the good work,Swetha\n",
      "Do submit  your work daily without fails,Swetha\n",
      "\n"
     ]
    }
   ],
   "source": [
    "for folks in students:\n",
    "    print(f\"Keep up the good work,{folks.title()}\")\n",
    "    print(f\"Do submit  your work daily without fails,{folks.title()}\\n\")"
   ]
  },
  {
   "cell_type": "code",
   "execution_count": 27,
   "id": "2106991a-959d-4bd0-9a64-3da37d962ca6",
   "metadata": {},
   "outputs": [
    {
     "ename": "IndentationError",
     "evalue": "expected an indented block after 'for' statement on line 2 (3375694382.py, line 3)",
     "output_type": "error",
     "traceback": [
      "\u001b[1;36m  Cell \u001b[1;32mIn[27], line 3\u001b[1;36m\u001b[0m\n\u001b[1;33m    print(f\"Keep up the good work,{folks.title()}\")\u001b[0m\n\u001b[1;37m    ^\u001b[0m\n\u001b[1;31mIndentationError\u001b[0m\u001b[1;31m:\u001b[0m expected an indented block after 'for' statement on line 2\n"
     ]
    }
   ],
   "source": [
    "#If we print without indentaion, it will show as error\n",
    "for folks in students:\n",
    "print(f\"Keep up the good work,{folks.title()}\")\n",
    "print(f\"Do submit  your work daily without fails,{folks.title()}\\n\")"
   ]
  },
  {
   "cell_type": "code",
   "execution_count": 35,
   "id": "e912b141-8622-472f-afbf-b5490158ead1",
   "metadata": {},
   "outputs": [
    {
     "name": "stdout",
     "output_type": "stream",
     "text": [
      "Keep up the good work,Aditi\n",
      "Do submit  your work daily without fails,Aditi\n",
      "\n",
      "Thank you all for joining in the session\n",
      "\n",
      "Keep up the good work,Nouman\n",
      "Do submit  your work daily without fails,Nouman\n",
      "\n",
      "Thank you all for joining in the session\n",
      "\n",
      "Keep up the good work,Leo\n",
      "Do submit  your work daily without fails,Leo\n",
      "\n",
      "Thank you all for joining in the session\n",
      "\n",
      "Keep up the good work,Bavani\n",
      "Do submit  your work daily without fails,Bavani\n",
      "\n",
      "Thank you all for joining in the session\n",
      "\n",
      "Keep up the good work,Swetha\n",
      "Do submit  your work daily without fails,Swetha\n",
      "\n",
      "Thank you all for joining in the session\n",
      "\n"
     ]
    }
   ],
   "source": [
    "#So we have to write it within the loop following the indentation\n",
    "for folks in students:\n",
    "    print(f\"Keep up the good work,{folks.title()}\")\n",
    "    print(f\"Do submit  your work daily without fails,{folks.title()}\\n\")\n",
    "    print(\"Thank you all for joining in the session\\n\")"
   ]
  },
  {
   "cell_type": "code",
   "execution_count": 43,
   "id": "c3831265-a625-4d6f-a9e7-6de53e86bbc1",
   "metadata": {},
   "outputs": [
    {
     "name": "stdout",
     "output_type": "stream",
     "text": [
      "Keep up the good work,Aditi\n",
      "Do submit  your work daily without fails,Aditi\n",
      "\n",
      "Keep up the good work,Nouman\n",
      "Do submit  your work daily without fails,Nouman\n",
      "\n",
      "Keep up the good work,Leo\n",
      "Do submit  your work daily without fails,Leo\n",
      "\n",
      "Keep up the good work,Bavani\n",
      "Do submit  your work daily without fails,Bavani\n",
      "\n",
      "Keep up the good work,Swetha\n",
      "Do submit  your work daily without fails,Swetha\n",
      "\n",
      "Thank you all for joining in the session\n"
     ]
    }
   ],
   "source": [
    "#if we write it outside the loop, it will print only at the end only once\n",
    "for folks in students:\n",
    "    print(f\"Keep up the good work,{folks.title()}\")\n",
    "    print(f\"Do submit  your work daily without fails,{folks.title()}\\n\")\n",
    "print(\"Thank you all for joining in the session\")"
   ]
  },
  {
   "cell_type": "code",
   "execution_count": null,
   "id": "ed9f95f4-4dc6-4e58-9765-e061df500632",
   "metadata": {},
   "outputs": [],
   "source": []
  },
  {
   "cell_type": "code",
   "execution_count": null,
   "id": "dcdd5202-62aa-4738-8762-f469fa5bb6b2",
   "metadata": {},
   "outputs": [],
   "source": []
  },
  {
   "cell_type": "code",
   "execution_count": null,
   "id": "63f9de9a-f240-4c50-be6f-106c8faed84d",
   "metadata": {},
   "outputs": [],
   "source": []
  },
  {
   "cell_type": "code",
   "execution_count": null,
   "id": "2488fcda-49a1-4e93-9a41-c01c582b3fa4",
   "metadata": {},
   "outputs": [],
   "source": []
  },
  {
   "cell_type": "code",
   "execution_count": null,
   "id": "97963309-a2d9-4396-85ec-f97277de0724",
   "metadata": {},
   "outputs": [],
   "source": []
  }
 ],
 "metadata": {
  "kernelspec": {
   "display_name": "Python 3 (ipykernel)",
   "language": "python",
   "name": "python3"
  },
  "language_info": {
   "codemirror_mode": {
    "name": "ipython",
    "version": 3
   },
   "file_extension": ".py",
   "mimetype": "text/x-python",
   "name": "python",
   "nbconvert_exporter": "python",
   "pygments_lexer": "ipython3",
   "version": "3.12.4"
  }
 },
 "nbformat": 4,
 "nbformat_minor": 5
}
