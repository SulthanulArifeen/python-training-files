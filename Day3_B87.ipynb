{
 "cells": [
  {
   "cell_type": "code",
   "execution_count": null,
   "id": "f6d8f57c-91f7-42e9-b2e5-cf6e6c696d38",
   "metadata": {},
   "outputs": [],
   "source": [
    "Continuation with string datatypes"
   ]
  },
  {
   "cell_type": "code",
   "execution_count": 55,
   "id": "cbdc5a13-7873-4145-a8bb-2ce68d6c2e4a",
   "metadata": {},
   "outputs": [
    {
     "name": "stdout",
     "output_type": "stream",
     "text": [
      "muhammadtalha\n"
     ]
    }
   ],
   "source": [
    "firstname=\"muhammad\"\n",
    "lastname='talha'  #To get a fullname 'f' string is used as syntax\n",
    "fullname=f\"{firstname}{lastname}\"\n",
    "print(fullname)"
   ]
  },
  {
   "cell_type": "code",
   "execution_count": 57,
   "id": "3b6e3ad8-0b03-4da5-a8eb-0eca5b7055e6",
   "metadata": {},
   "outputs": [
    {
     "name": "stdout",
     "output_type": "stream",
     "text": [
      "Muhammadtalha\n"
     ]
    }
   ],
   "source": [
    "print (fullname.title())"
   ]
  },
  {
   "cell_type": "code",
   "execution_count": 73,
   "id": "86bb72bd-8be4-4c7e-a436-1cb26389b506",
   "metadata": {},
   "outputs": [
    {
     "name": "stdout",
     "output_type": "stream",
     "text": [
      "keep up the good work Muhammadtalha\n"
     ]
    }
   ],
   "source": [
    "message=f\"keep up the good work {fullname.title()}\"\n",
    "print (message)"
   ]
  },
  {
   "cell_type": "code",
   "execution_count": null,
   "id": "7cdf4602-721a-45a0-ad5c-96ede64d4c87",
   "metadata": {},
   "outputs": [],
   "source": [
    "Adding white spaces to strings\n"
   ]
  },
  {
   "cell_type": "code",
   "execution_count": 23,
   "id": "bb51d972-9eef-4821-b836-7302af75d8e0",
   "metadata": {},
   "outputs": [
    {
     "name": "stdout",
     "output_type": "stream",
     "text": [
      "Favourite programming language:pythonjaveswiftreactcc++pascal\n"
     ]
    }
   ],
   "source": [
    "print(\"Favourite programming language:pythonjaveswiftreactcc++pascal\")"
   ]
  },
  {
   "cell_type": "code",
   "execution_count": null,
   "id": "31e79241-db8e-47b8-9652-f49a244daff7",
   "metadata": {},
   "outputs": [],
   "source": [
    "To print it in new line \\n is used- new line delimitter"
   ]
  },
  {
   "cell_type": "code",
   "execution_count": 27,
   "id": "532ba40a-b340-43fc-b914-a107c5ae89c6",
   "metadata": {},
   "outputs": [
    {
     "name": "stdout",
     "output_type": "stream",
     "text": [
      "Favourite programming language:\n",
      "python\n",
      "java\n",
      "swift\n",
      "react\n",
      "c\n",
      "c++\n",
      "pascal\n"
     ]
    }
   ],
   "source": [
    "print(\"Favourite programming language:\\npython\\njava\\nswift\\nreact\\nc\\nc++\\npascal\")"
   ]
  },
  {
   "cell_type": "code",
   "execution_count": null,
   "id": "1bd04547-5db4-48d6-88c1-6d58d66acf43",
   "metadata": {},
   "outputs": [],
   "source": [
    "To print it in between spaces using tab \\t is used- tab delimitter"
   ]
  },
  {
   "cell_type": "code",
   "execution_count": 29,
   "id": "e2ba9963-d590-482a-a5f0-544094ddf0e6",
   "metadata": {},
   "outputs": [
    {
     "name": "stdout",
     "output_type": "stream",
     "text": [
      "Favourite programming language:\tpython\tjava\tswift\treact\tc\tc++\tpascal\n"
     ]
    }
   ],
   "source": [
    "print(\"Favourite programming language:\\tpython\\tjava\\tswift\\treact\\tc\\tc++\\tpascal\")"
   ]
  },
  {
   "cell_type": "code",
   "execution_count": null,
   "id": "e8d4e5a8-dc65-4a4f-b59d-3df12ba6280e",
   "metadata": {},
   "outputs": [],
   "source": [
    "Removing unwanted white spaces from the program using strip method"
   ]
  },
  {
   "cell_type": "code",
   "execution_count": 37,
   "id": "40829ee5-8318-4ded-aa93-1ffd6524eb52",
   "metadata": {},
   "outputs": [
    {
     "name": "stdout",
     "output_type": "stream",
     "text": [
      "Sulthan  \n",
      "  aarifeen\n"
     ]
    }
   ],
   "source": [
    "name1='Sulthan  '   #gap on the right\n",
    "name2='  aarifeen'  #gap on the left\n",
    "print (name1)\n",
    "print (name2)"
   ]
  },
  {
   "cell_type": "code",
   "execution_count": 47,
   "id": "8a4d3d42-35df-4c56-884e-b852764be733",
   "metadata": {},
   "outputs": [
    {
     "name": "stdout",
     "output_type": "stream",
     "text": [
      "of all fruits banana is my favorite\n"
     ]
    }
   ],
   "source": [
    "fruit1=\"   banana   \"\n",
    "x=fruit1.strip()\n",
    "print(\"of all fruits\",x,\"is my favorite\")"
   ]
  },
  {
   "cell_type": "code",
   "execution_count": 49,
   "id": "7978f785-161f-4ec4-bc6f-89a4e34a6565",
   "metadata": {},
   "outputs": [
    {
     "name": "stdout",
     "output_type": "stream",
     "text": [
      "my first name is sulthan\n"
     ]
    }
   ],
   "source": [
    "name1=\"   sulthan   \"\n",
    "firstname= name1.strip()\n",
    "print (\"my first name is\",firstname)"
   ]
  },
  {
   "cell_type": "code",
   "execution_count": 53,
   "id": "c21fb490-6c9b-43dd-98e6-6c10a0fda225",
   "metadata": {},
   "outputs": [
    {
     "name": "stdout",
     "output_type": "stream",
     "text": [
      "my fullname is sulthanul aarifeen amirudeen\n"
     ]
    }
   ],
   "source": [
    "name1=\"   sulthanul   \"\n",
    "name2=\"aarifeen     \"\n",
    "name3=\"  amirudeen          \"\n",
    "firstname= name1.strip()\n",
    "middlename=name2.strip()\n",
    "lastname=name3.strip()\n",
    "print (\"my fullname is\",firstname,middlename,lastname)"
   ]
  },
  {
   "cell_type": "code",
   "execution_count": null,
   "id": "52e9bb29-cffa-442f-997e-6d50c4addbb4",
   "metadata": {},
   "outputs": [],
   "source": []
  }
 ],
 "metadata": {
  "kernelspec": {
   "display_name": "Python 3 (ipykernel)",
   "language": "python",
   "name": "python3"
  },
  "language_info": {
   "codemirror_mode": {
    "name": "ipython",
    "version": 3
   },
   "file_extension": ".py",
   "mimetype": "text/x-python",
   "name": "python",
   "nbconvert_exporter": "python",
   "pygments_lexer": "ipython3",
   "version": "3.12.4"
  }
 },
 "nbformat": 4,
 "nbformat_minor": 5
}
