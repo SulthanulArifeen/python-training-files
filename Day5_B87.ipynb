{
 "cells": [
  {
   "cell_type": "code",
   "execution_count": null,
   "id": "a20240e4-6f8f-42af-9b68-0bf54e5e2ba4",
   "metadata": {},
   "outputs": [],
   "source": [
    "Organizing the list datatype"
   ]
  },
  {
   "cell_type": "code",
   "execution_count": 7,
   "id": "e52c5494-9a95-4bfa-9734-94f439174020",
   "metadata": {},
   "outputs": [
    {
     "name": "stdout",
     "output_type": "stream",
     "text": [
      "['benz', 'bmw', 'audi', 'maruthi', 'suzuki', 'kia', 'hyundai']\n"
     ]
    }
   ],
   "source": [
    "cars=['benz','bmw','audi','maruthi','suzuki','kia','hyundai']\n",
    "print(cars)"
   ]
  },
  {
   "cell_type": "code",
   "execution_count": null,
   "id": "60f83580-d28a-40af-9d51-6dee66ab4ff4",
   "metadata": {},
   "outputs": [],
   "source": [
    "#To organize the list in A to Z order we have two methods one is sorted and another is sort"
   ]
  },
  {
   "cell_type": "code",
   "execution_count": 9,
   "id": "61b7cee1-47e9-4b6c-bb0f-4861a90519bc",
   "metadata": {},
   "outputs": [
    {
     "name": "stdout",
     "output_type": "stream",
     "text": [
      "['audi', 'benz', 'bmw', 'hyundai', 'kia', 'maruthi', 'suzuki']\n"
     ]
    }
   ],
   "source": [
    "#sorted method- temprorary approach which changes to A to z order but it will to original list if we print it\n",
    "print(sorted(cars))"
   ]
  },
  {
   "cell_type": "code",
   "execution_count": 11,
   "id": "97885d6a-149d-431c-84d7-d5ed013dadd0",
   "metadata": {},
   "outputs": [
    {
     "name": "stdout",
     "output_type": "stream",
     "text": [
      "['benz', 'bmw', 'audi', 'maruthi', 'suzuki', 'kia', 'hyundai']\n"
     ]
    }
   ],
   "source": [
    "print(cars)"
   ]
  },
  {
   "cell_type": "code",
   "execution_count": null,
   "id": "47a40f89-7680-4d5f-af7b-7e73e5ef5843",
   "metadata": {},
   "outputs": [],
   "source": [
    "#sort method- Permanent approach which sort in A to Z order and also it maintains the same order"
   ]
  },
  {
   "cell_type": "code",
   "execution_count": 15,
   "id": "f9abdf5c-47e4-4f07-a5aa-a8c0740871cd",
   "metadata": {},
   "outputs": [
    {
     "name": "stdout",
     "output_type": "stream",
     "text": [
      "['audi', 'benz', 'bmw', 'hyundai', 'kia', 'maruthi', 'suzuki']\n"
     ]
    }
   ],
   "source": [
    "cars.sort()\n",
    "print(cars)"
   ]
  },
  {
   "cell_type": "code",
   "execution_count": 17,
   "id": "e9638c60-1e32-487b-8792-6e609254a16b",
   "metadata": {},
   "outputs": [
    {
     "name": "stdout",
     "output_type": "stream",
     "text": [
      "['audi', 'benz', 'bmw', 'hyundai', 'kia', 'maruthi', 'suzuki']\n"
     ]
    }
   ],
   "source": [
    "print(cars)    #if we print again it maintains the sort order"
   ]
  },
  {
   "cell_type": "code",
   "execution_count": 19,
   "id": "925b4c2f-fe10-4732-b6cd-d60446032ab2",
   "metadata": {},
   "outputs": [
    {
     "name": "stdout",
     "output_type": "stream",
     "text": [
      "['suzuki', 'maruthi', 'kia', 'hyundai', 'bmw', 'benz', 'audi']\n"
     ]
    }
   ],
   "source": [
    "# To print in reverse order\n",
    "cars.reverse()\n",
    "print(cars)"
   ]
  },
  {
   "cell_type": "code",
   "execution_count": 23,
   "id": "ec5b44af-5ade-40e0-aa19-ddff56ed1d00",
   "metadata": {},
   "outputs": [
    {
     "data": {
      "text/plain": [
       "7"
      ]
     },
     "execution_count": 23,
     "metadata": {},
     "output_type": "execute_result"
    }
   ],
   "source": [
    "# To know the total number of elements\n",
    "len(cars)"
   ]
  },
  {
   "cell_type": "code",
   "execution_count": null,
   "id": "ed49dae3-3ea1-455c-9829-cb69059e70da",
   "metadata": {},
   "outputs": [],
   "source": [
    "Slicing the list"
   ]
  },
  {
   "cell_type": "code",
   "execution_count": 33,
   "id": "e78fa228-6950-4464-a808-0e7102bce361",
   "metadata": {},
   "outputs": [
    {
     "name": "stdout",
     "output_type": "stream",
     "text": [
      "['aditi', 'nouman', 'shakthi', 'priya', 'swetha', 'joseph']\n"
     ]
    },
    {
     "data": {
      "text/plain": [
       "list"
      ]
     },
     "execution_count": 33,
     "metadata": {},
     "output_type": "execute_result"
    }
   ],
   "source": [
    "students=['aditi','nouman','shakthi','priya','swetha','joseph']\n",
    "print(students)\n",
    "type(students)"
   ]
  },
  {
   "cell_type": "code",
   "execution_count": 35,
   "id": "3657339b-180c-4bda-bd10-82047ac4a235",
   "metadata": {},
   "outputs": [
    {
     "name": "stdout",
     "output_type": "stream",
     "text": [
      "['aditi', 'nouman']\n"
     ]
    }
   ],
   "source": [
    "#syntax-[start value:stop value:step count]\n",
    "#Note- Stop value should be incremented with the value of 1 from index value\n",
    "# To slice aditi and naveen \n",
    "students=['aditi','nouman','shakthi','priya','swetha','joseph']\n",
    "print (students[0:2])"
   ]
  },
  {
   "cell_type": "code",
   "execution_count": 37,
   "id": "e95ab817-6fd2-47d8-a071-6dab214c807b",
   "metadata": {},
   "outputs": [
    {
     "name": "stdout",
     "output_type": "stream",
     "text": [
      "['shakthi', 'priya']\n",
      "['swetha', 'joseph']\n"
     ]
    }
   ],
   "source": [
    "# To print shakthi and priya/ swetha and joseph\n",
    "print(students[2:4])\n",
    "print(students[4:6])"
   ]
  },
  {
   "cell_type": "code",
   "execution_count": 39,
   "id": "d632a1ad-7d46-490e-ac19-d178ff32f1b3",
   "metadata": {},
   "outputs": [
    {
     "name": "stdout",
     "output_type": "stream",
     "text": [
      "['aditi', 'shakthi', 'swetha']\n"
     ]
    }
   ],
   "source": [
    "# if we want to slice into 3members in one list then it should be as follows\n",
    "print(students[0:6:2])"
   ]
  },
  {
   "cell_type": "code",
   "execution_count": 41,
   "id": "e62d8dba-f95a-4d59-bb0d-fe9103b5062a",
   "metadata": {},
   "outputs": [
    {
     "name": "stdout",
     "output_type": "stream",
     "text": [
      "['nouman', 'priya', 'joseph']\n"
     ]
    }
   ],
   "source": [
    "print(students[1:6:2])"
   ]
  },
  {
   "cell_type": "code",
   "execution_count": null,
   "id": "fa8ac5bc-9cac-47eb-9eee-b825223a3b6c",
   "metadata": {},
   "outputs": [],
   "source": []
  }
 ],
 "metadata": {
  "kernelspec": {
   "display_name": "Python 3 (ipykernel)",
   "language": "python",
   "name": "python3"
  },
  "language_info": {
   "codemirror_mode": {
    "name": "ipython",
    "version": 3
   },
   "file_extension": ".py",
   "mimetype": "text/x-python",
   "name": "python",
   "nbconvert_exporter": "python",
   "pygments_lexer": "ipython3",
   "version": "3.12.4"
  }
 },
 "nbformat": 4,
 "nbformat_minor": 5
}
