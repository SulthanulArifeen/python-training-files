{
 "cells": [
  {
   "cell_type": "code",
   "execution_count": null,
   "id": "53a3a19a-db28-4c90-88d3-9b51bc280f37",
   "metadata": {},
   "outputs": [],
   "source": [
    "Inroduction to list data types"
   ]
  },
  {
   "cell_type": "code",
   "execution_count": 2,
   "id": "f35cb6fa-552f-4cd5-9787-b77ba593b9a5",
   "metadata": {},
   "outputs": [
    {
     "name": "stdout",
     "output_type": "stream",
     "text": [
      "['sulthan', 'aarifeen', 'talha', 'akeel', 'muhsin']\n"
     ]
    }
   ],
   "source": [
    "students=['sulthan','aarifeen','talha','akeel','muhsin']    #indexation-[0,1,2,3,4.....n]\n",
    "print(students)"
   ]
  },
  {
   "cell_type": "code",
   "execution_count": null,
   "id": "1e081bdb-6ce7-41d8-bb20-548a60bb6493",
   "metadata": {},
   "outputs": [],
   "source": [
    "#to access muhsin only from the list"
   ]
  },
  {
   "cell_type": "code",
   "execution_count": 4,
   "id": "f081de9d-13d3-4298-9b80-9dd5a766bab9",
   "metadata": {},
   "outputs": [
    {
     "name": "stdout",
     "output_type": "stream",
     "text": [
      "muhsin\n"
     ]
    }
   ],
   "source": [
    "print(students[4])"
   ]
  },
  {
   "cell_type": "code",
   "execution_count": 60,
   "id": "2c240e64-4b0e-4fef-bebf-9a7b058dd110",
   "metadata": {},
   "outputs": [
    {
     "data": {
      "text/plain": [
       "list"
      ]
     },
     "execution_count": 60,
     "metadata": {},
     "output_type": "execute_result"
    }
   ],
   "source": [
    "type(students)"
   ]
  },
  {
   "cell_type": "code",
   "execution_count": 10,
   "id": "eafb32fb-83a1-4321-9620-d6508d9cb4f5",
   "metadata": {},
   "outputs": [
    {
     "ename": "IndexError",
     "evalue": "list index out of range",
     "output_type": "error",
     "traceback": [
      "\u001b[1;31m---------------------------------------------------------------------------\u001b[0m",
      "\u001b[1;31mIndexError\u001b[0m                                Traceback (most recent call last)",
      "Cell \u001b[1;32mIn[10], line 1\u001b[0m\n\u001b[1;32m----> 1\u001b[0m \u001b[38;5;28mprint\u001b[39m(students[\u001b[38;5;241m5\u001b[39m])\n",
      "\u001b[1;31mIndexError\u001b[0m: list index out of range"
     ]
    }
   ],
   "source": [
    "print(students[5])"
   ]
  },
  {
   "cell_type": "code",
   "execution_count": 12,
   "id": "c00c862c-c144-471a-8e22-e48c4a7f96fa",
   "metadata": {},
   "outputs": [
    {
     "name": "stdout",
     "output_type": "stream",
     "text": [
      "Muhsin\n"
     ]
    }
   ],
   "source": [
    "print(students[4].title())"
   ]
  },
  {
   "cell_type": "code",
   "execution_count": null,
   "id": "fca4e96b-a13b-48c9-9572-a664dd2dfe42",
   "metadata": {},
   "outputs": [],
   "source": [
    "#to access talha from the list"
   ]
  },
  {
   "cell_type": "code",
   "execution_count": 16,
   "id": "fdb541ea-d257-43c2-9eb3-1c6e9b33542e",
   "metadata": {},
   "outputs": [
    {
     "name": "stdout",
     "output_type": "stream",
     "text": [
      "Talha\n"
     ]
    }
   ],
   "source": [
    "print(students[2].title())"
   ]
  },
  {
   "cell_type": "code",
   "execution_count": null,
   "id": "be805660-a031-4570-9fda-1f8fbbe43278",
   "metadata": {},
   "outputs": [],
   "source": [
    "# To add new elements into the list we use append syntax for example we add Nusaybha to the list"
   ]
  },
  {
   "cell_type": "code",
   "execution_count": 24,
   "id": "77ceed8c-369e-4b9a-9f7a-99b00c2d72ce",
   "metadata": {},
   "outputs": [
    {
     "name": "stdout",
     "output_type": "stream",
     "text": [
      "['sulthan', 'aarifeen', 'talha', 'akeel', 'muhsin', 'nusaybha']\n"
     ]
    }
   ],
   "source": [
    "students.append('nusaybha')\n",
    "print(students)"
   ]
  },
  {
   "cell_type": "code",
   "execution_count": null,
   "id": "6f0dc87e-a785-4579-9ea1-08309b62dd72",
   "metadata": {},
   "outputs": [],
   "source": [
    "#append used to add the elements at the end of the list"
   ]
  },
  {
   "cell_type": "code",
   "execution_count": null,
   "id": "dbce684f-4916-4010-b22d-853657b881bd",
   "metadata": {},
   "outputs": [],
   "source": [
    "#To add elements at desired location we use insert syntax"
   ]
  },
  {
   "cell_type": "code",
   "execution_count": 28,
   "id": "90712182-4866-4cd5-abaa-dafe1862899c",
   "metadata": {},
   "outputs": [
    {
     "name": "stdout",
     "output_type": "stream",
     "text": [
      "['sulthan', 'aarifeen', 'talha', 'arham', 'akeel', 'muhsin', 'nusaybha']\n"
     ]
    }
   ],
   "source": [
    "students.insert(3,'arham')\n",
    "print(students)"
   ]
  },
  {
   "cell_type": "code",
   "execution_count": 30,
   "id": "86d34977-3ba6-4c2e-81b5-935d3aaa78ef",
   "metadata": {},
   "outputs": [
    {
     "name": "stdout",
     "output_type": "stream",
     "text": [
      "['iyaadh', 'sulthan', 'aarifeen', 'talha', 'arham', 'akeel', 'muhsin', 'nusaybha']\n"
     ]
    }
   ],
   "source": [
    "students.insert(0,'iyaadh')\n",
    "print(students)"
   ]
  },
  {
   "cell_type": "code",
   "execution_count": 69,
   "id": "5b3ef441-8c21-4aac-a694-ff53f14820e1",
   "metadata": {},
   "outputs": [
    {
     "ename": "AttributeError",
     "evalue": "'list' object has no attribute 'upper'",
     "output_type": "error",
     "traceback": [
      "\u001b[1;31m---------------------------------------------------------------------------\u001b[0m",
      "\u001b[1;31mAttributeError\u001b[0m                            Traceback (most recent call last)",
      "Cell \u001b[1;32mIn[69], line 1\u001b[0m\n\u001b[1;32m----> 1\u001b[0m \u001b[38;5;28mprint\u001b[39m(students\u001b[38;5;241m.\u001b[39mupper())\n",
      "\u001b[1;31mAttributeError\u001b[0m: 'list' object has no attribute 'upper'"
     ]
    }
   ],
   "source": [
    "print(students.upper())"
   ]
  },
  {
   "cell_type": "code",
   "execution_count": null,
   "id": "fe1c1472-43a9-493b-b88b-0458636dcd00",
   "metadata": {},
   "outputs": [],
   "source": [
    "#To modify or replace with another element we use just index of desired location "
   ]
  },
  {
   "cell_type": "code",
   "execution_count": 38,
   "id": "d2439e98-41b0-4a86-96d6-54df62e6a532",
   "metadata": {},
   "outputs": [
    {
     "name": "stdout",
     "output_type": "stream",
     "text": [
      "['iyaadh', 'Amirudeen', 'aarifeen', 'talha', 'arham', 'akeel', 'muhsin', 'nusaybha']\n"
     ]
    }
   ],
   "source": [
    "students[1]='Amirudeen'\n",
    "print(students)"
   ]
  },
  {
   "cell_type": "code",
   "execution_count": null,
   "id": "3a02bba4-eefe-41a1-bb2a-9bbf0751b649",
   "metadata": {},
   "outputs": [],
   "source": [
    "# To delete the element from the list we use del syntax"
   ]
  },
  {
   "cell_type": "code",
   "execution_count": 58,
   "id": "ed6ae8ab-81fb-484f-9271-2d134edcfabf",
   "metadata": {},
   "outputs": [
    {
     "name": "stdout",
     "output_type": "stream",
     "text": [
      "['iyaadh', 'Amirudeen', 'talha', 'arham', 'akeel', 'muhsin', 'nusaybha']\n"
     ]
    }
   ],
   "source": [
    "students=['iyaadh', 'Amirudeen', 'aarifeen', 'talha', 'arham', 'akeel', 'muhsin', 'nusaybha']\n",
    "del students[2]    #for del syntax no need to used dot before variable\n",
    "print(students)"
   ]
  },
  {
   "cell_type": "code",
   "execution_count": null,
   "id": "b1c9b673-b762-46f0-b734-48ae3c0d84bc",
   "metadata": {},
   "outputs": [],
   "source": [
    "Zen of Python:"
   ]
  },
  {
   "cell_type": "code",
   "execution_count": 64,
   "id": "f0e2fa64-c6d5-48b0-97ba-77081882919b",
   "metadata": {},
   "outputs": [
    {
     "name": "stdout",
     "output_type": "stream",
     "text": [
      "The Zen of Python, by Tim Peters\n",
      "\n",
      "Beautiful is better than ugly.\n",
      "Explicit is better than implicit.\n",
      "Simple is better than complex.\n",
      "Complex is better than complicated.\n",
      "Flat is better than nested.\n",
      "Sparse is better than dense.\n",
      "Readability counts.\n",
      "Special cases aren't special enough to break the rules.\n",
      "Although practicality beats purity.\n",
      "Errors should never pass silently.\n",
      "Unless explicitly silenced.\n",
      "In the face of ambiguity, refuse the temptation to guess.\n",
      "There should be one-- and preferably only one --obvious way to do it.\n",
      "Although that way may not be obvious at first unless you're Dutch.\n",
      "Now is better than never.\n",
      "Although never is often better than *right* now.\n",
      "If the implementation is hard to explain, it's a bad idea.\n",
      "If the implementation is easy to explain, it may be a good idea.\n",
      "Namespaces are one honking great idea -- let's do more of those!\n"
     ]
    }
   ],
   "source": [
    "import this"
   ]
  },
  {
   "cell_type": "code",
   "execution_count": null,
   "id": "cefadec4-112a-4b3a-af20-4163658b043d",
   "metadata": {},
   "outputs": [],
   "source": []
  },
  {
   "cell_type": "code",
   "execution_count": null,
   "id": "0fcec059-a609-44f8-9d50-0fbecd1dd585",
   "metadata": {},
   "outputs": [],
   "source": []
  },
  {
   "cell_type": "code",
   "execution_count": null,
   "id": "8a8355e0-3481-479b-b057-93bf27dcc27b",
   "metadata": {},
   "outputs": [],
   "source": []
  },
  {
   "cell_type": "code",
   "execution_count": null,
   "id": "836343a1-0182-4c46-8b6a-b42dc452877e",
   "metadata": {},
   "outputs": [],
   "source": []
  },
  {
   "cell_type": "code",
   "execution_count": null,
   "id": "6cedcd36-ae30-408b-8e15-0e34addc5806",
   "metadata": {},
   "outputs": [],
   "source": []
  },
  {
   "cell_type": "code",
   "execution_count": null,
   "id": "ba316be8-1ee4-4a03-8d42-d1f636f67221",
   "metadata": {},
   "outputs": [],
   "source": []
  }
 ],
 "metadata": {
  "kernelspec": {
   "display_name": "Python 3 (ipykernel)",
   "language": "python",
   "name": "python3"
  },
  "language_info": {
   "codemirror_mode": {
    "name": "ipython",
    "version": 3
   },
   "file_extension": ".py",
   "mimetype": "text/x-python",
   "name": "python",
   "nbconvert_exporter": "python",
   "pygments_lexer": "ipython3",
   "version": "3.12.4"
  }
 },
 "nbformat": 4,
 "nbformat_minor": 5
}
